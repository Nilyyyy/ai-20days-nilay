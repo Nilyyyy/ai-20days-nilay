{
 "cells": [
  {
   "cell_type": "code",
   "execution_count": 5,
   "id": "99b549ec",
   "metadata": {},
   "outputs": [
    {
     "name": "stdout",
     "output_type": "stream",
     "text": [
      "np.array: [1 2 3 4 5]\n",
      "np.arange: [0 1 2 3 4 5 6 7 8 9]\n",
      "np.random.rand: [0.06351252 0.02301597 0.93122988 0.83471753 0.59024239]\n",
      "np.random.randint: [46 29 43 32 39]\n"
     ]
    }
   ],
   "source": [
    "# 1) Düz array oluşturma\n",
    "arr1 = np.array([1, 2, 3, 4, 5])\n",
    "print(\"np.array:\", arr1)\n",
    "\n",
    "# 2) Aralık ile array oluşturma (0’dan 9’a kadar)\n",
    "arr2 = np.arange(0, 10)\n",
    "print(\"np.arange:\", arr2)\n",
    "\n",
    "# 3) Random array (0–1 arası 5 sayı)\n",
    "arr3 = np.random.rand(5)\n",
    "print(\"np.random.rand:\", arr3)\n",
    "\n",
    "# 4) Random integer array (0–50 arası 5 sayı)\n",
    "arr4 = np.random.randint(0, 50, 5)\n",
    "print(\"np.random.randint:\", arr4)\n"
   ]
  },
  {
   "cell_type": "code",
   "execution_count": 6,
   "id": "a0afa938",
   "metadata": {},
   "outputs": [
    {
     "name": "stdout",
     "output_type": "stream",
     "text": [
      "Array: [0 1 2 3 4 5 6 7 8 9]\n",
      "Shape: (10,)\n",
      "Dtype: int64\n",
      "İlk 5 eleman: [0 1 2 3 4]\n",
      "Son 3 eleman: [7 8 9]\n",
      "2'den 7'ye kadar: [2 3 4 5 6 7]\n"
     ]
    }
   ],
   "source": [
    "import numpy as np\n",
    "\n",
    "# Bir array oluşturalım\n",
    "a = np.arange(10)   # 0'dan 9'a kadar\n",
    "print(\"Array:\", a)\n",
    "\n",
    "# Shape (boyut bilgisi)\n",
    "print(\"Shape:\", a.shape)\n",
    "\n",
    "# Dtype (veri tipi)\n",
    "print(\"Dtype:\", a.dtype)\n",
    "\n",
    "# Slicing (dilimleme)\n",
    "print(\"İlk 5 eleman:\", a[:5])\n",
    "print(\"Son 3 eleman:\", a[-3:])\n",
    "print(\"2'den 7'ye kadar:\", a[2:8])\n"
   ]
  },
  {
   "cell_type": "code",
   "execution_count": 7,
   "id": "ec6c30a0",
   "metadata": {},
   "outputs": [
    {
     "name": "stdout",
     "output_type": "stream",
     "text": [
      "Orijinal matris:\n",
      " [[1 2 3]\n",
      " [4 5 6]\n",
      " [7 8 9]]\n",
      "Transpoz:\n",
      " [[1 4 7]\n",
      " [2 5 8]\n",
      " [3 6 9]]\n"
     ]
    }
   ],
   "source": [
    "import numpy as np\n",
    "\n",
    "# 3x3 matris oluşturalım\n",
    "m = np.array([[1, 2, 3],\n",
    "              [4, 5, 6],\n",
    "              [7, 8, 9]])\n",
    "\n",
    "print(\"Orijinal matris:\\n\", m)\n",
    "\n",
    "# Transpoz (satır ↔ sütun değişir)\n",
    "print(\"Transpoz:\\n\", m.T)\n"
   ]
  },
  {
   "cell_type": "code",
   "execution_count": 8,
   "id": "079bca3d",
   "metadata": {},
   "outputs": [
    {
     "name": "stdout",
     "output_type": "stream",
     "text": [
      "a: [1 2 3 4 5]\n",
      "b: [10 20 30 40 50]\n",
      "a * 2: [ 2  4  6  8 10]\n",
      "a + b: [11 22 33 44 55]\n",
      "a * b: [ 10  40  90 160 250]\n",
      "a ** 2: [ 1  4  9 16 25]\n"
     ]
    }
   ],
   "source": [
    "import numpy as np\n",
    "\n",
    "a = np.array([1, 2, 3, 4, 5])\n",
    "b = np.array([10, 20, 30, 40, 50])\n",
    "\n",
    "print(\"a:\", a)\n",
    "print(\"b:\", b)\n",
    "\n",
    "# 1) Tüm elemanları 2 ile çarp\n",
    "print(\"a * 2:\", a * 2)\n",
    "\n",
    "# 2) İki array'i topla\n",
    "print(\"a + b:\", a + b)\n",
    "\n",
    "# 3) Eleman bazlı çarpım\n",
    "print(\"a * b:\", a * b)\n",
    "\n",
    "# 4) Eleman bazlı karesini al\n",
    "print(\"a ** 2:\", a ** 2)\n"
   ]
  },
  {
   "cell_type": "code",
   "execution_count": 3,
   "id": "c5fa49bd",
   "metadata": {},
   "outputs": [],
   "source": [
    "import numpy as np\n"
   ]
  }
 ],
 "metadata": {
  "kernelspec": {
   "display_name": "ai-20days",
   "language": "python",
   "name": "ai20"
  },
  "language_info": {
   "codemirror_mode": {
    "name": "ipython",
    "version": 3
   },
   "file_extension": ".py",
   "mimetype": "text/x-python",
   "name": "python",
   "nbconvert_exporter": "python",
   "pygments_lexer": "ipython3",
   "version": "3.13.3"
  }
 },
 "nbformat": 4,
 "nbformat_minor": 5
}

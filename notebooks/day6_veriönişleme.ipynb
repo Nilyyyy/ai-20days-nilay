{
 "cells": [
  {
   "cell_type": "code",
   "execution_count": 23,
   "id": "fb3df285",
   "metadata": {},
   "outputs": [
    {
     "name": "stdout",
     "output_type": "stream",
     "text": [
      "    ID Cinsiyet  Yaş   Gelir    Meslek\n",
      "0    1    Erkek   25  3000.0  Mühendis\n",
      "1    2    Kadın   32  5000.0    Doktor\n",
      "2    3    Kadın   45     NaN  Öğretmen\n",
      "3    4    Erkek   22  3200.0    Avukat\n",
      "4    5    Kadın   38  4500.0  Mühendis\n",
      "5    6    Erkek   28  2900.0    Doktor\n",
      "6    7    Kadın   33  5100.0  Öğretmen\n",
      "7    8    Erkek   41     NaN    Avukat\n",
      "8    9    Kadın   37  6000.0  Mühendis\n",
      "9   10    Erkek   23  2700.0    Doktor\n",
      "10  11    Erkek   35  6100.0    Avukat\n",
      "11  12    Kadın   44     NaN  Öğretmen\n",
      "12  13    Erkek   29  4000.0  Mühendis\n",
      "13  14    Kadın   36  5300.0    Doktor\n",
      "14  15    Kadın   48  4800.0  Öğretmen\n",
      "15  16    Erkek   27  3900.0    Avukat\n",
      "16  17    Kadın   50  4200.0  Mühendis\n",
      "17  18    Erkek   21  3100.0    Doktor\n",
      "18  19    Kadın   46     NaN    Avukat\n",
      "19  20    Erkek   30  3500.0  Öğretmen\n"
     ]
    }
   ],
   "source": [
    "\n",
    "from sklearn.preprocessing import LabelEncoder , StandardScaler\n",
    "import pandas as pd\n",
    "import matplotlib.pyplot as plt\n",
    "import seaborn as sns\n",
    "\n",
    "\n",
    "df = pd.read_excel(r\"C:\\Users\\bunco\\OneDrive\\Masaüstü\\20days-Nilay\\data\\veri_on_isleme_ve_ozellik_muhendisligi.xlsx\")\n",
    "print(df)\n"
   ]
  },
  {
   "cell_type": "markdown",
   "id": "facd87cb",
   "metadata": {},
   "source": [
    "eksik gelir verilerini ortalama ile dolduralım ,NaN değerleri gelir ortalama degeri ile doldurmak fillna"
   ]
  },
  {
   "cell_type": "code",
   "execution_count": 24,
   "id": "05a2fa79",
   "metadata": {},
   "outputs": [
    {
     "name": "stdout",
     "output_type": "stream",
     "text": [
      "    ID Cinsiyet  Yaş    Gelir    Meslek\n",
      "0    1    Erkek   25  3000.00  Mühendis\n",
      "1    2    Kadın   32  5000.00    Doktor\n",
      "2    3    Kadın   45  4206.25  Öğretmen\n",
      "3    4    Erkek   22  3200.00    Avukat\n",
      "4    5    Kadın   38  4500.00  Mühendis\n",
      "5    6    Erkek   28  2900.00    Doktor\n",
      "6    7    Kadın   33  5100.00  Öğretmen\n",
      "7    8    Erkek   41  4206.25    Avukat\n",
      "8    9    Kadın   37  6000.00  Mühendis\n",
      "9   10    Erkek   23  2700.00    Doktor\n",
      "10  11    Erkek   35  6100.00    Avukat\n",
      "11  12    Kadın   44  4206.25  Öğretmen\n",
      "12  13    Erkek   29  4000.00  Mühendis\n",
      "13  14    Kadın   36  5300.00    Doktor\n",
      "14  15    Kadın   48  4800.00  Öğretmen\n",
      "15  16    Erkek   27  3900.00    Avukat\n",
      "16  17    Kadın   50  4200.00  Mühendis\n",
      "17  18    Erkek   21  3100.00    Doktor\n",
      "18  19    Kadın   46  4206.25    Avukat\n",
      "19  20    Erkek   30  3500.00  Öğretmen\n"
     ]
    }
   ],
   "source": [
    "df.fillna(df['Gelir'].mean(), inplace=True)\n",
    "print(df)\n"
   ]
  },
  {
   "cell_type": "markdown",
   "id": "38a6e974",
   "metadata": {},
   "source": [
    "LabelEncoder() nesnesi oluşturuluyor.\n",
    "\n",
    "df['Cinsiyet'] sütunundaki kategorik değerler (örneğin \"Erkek\", \"Kadın\") sayılara dönüştürülüyor (0, 1 gibi)."
   ]
  },
  {
   "cell_type": "code",
   "execution_count": 25,
   "id": "34c147a8",
   "metadata": {},
   "outputs": [
    {
     "name": "stdout",
     "output_type": "stream",
     "text": [
      "    ID  Cinsiyet  Yaş    Gelir    Meslek\n",
      "0    1         0   25  3000.00  Mühendis\n",
      "1    2         1   32  5000.00    Doktor\n",
      "2    3         1   45  4206.25  Öğretmen\n",
      "3    4         0   22  3200.00    Avukat\n",
      "4    5         1   38  4500.00  Mühendis\n",
      "5    6         0   28  2900.00    Doktor\n",
      "6    7         1   33  5100.00  Öğretmen\n",
      "7    8         0   41  4206.25    Avukat\n",
      "8    9         1   37  6000.00  Mühendis\n",
      "9   10         0   23  2700.00    Doktor\n",
      "10  11         0   35  6100.00    Avukat\n",
      "11  12         1   44  4206.25  Öğretmen\n",
      "12  13         0   29  4000.00  Mühendis\n",
      "13  14         1   36  5300.00    Doktor\n",
      "14  15         1   48  4800.00  Öğretmen\n",
      "15  16         0   27  3900.00    Avukat\n",
      "16  17         1   50  4200.00  Mühendis\n",
      "17  18         0   21  3100.00    Doktor\n",
      "18  19         1   46  4206.25    Avukat\n",
      "19  20         0   30  3500.00  Öğretmen\n"
     ]
    }
   ],
   "source": [
    "le = LabelEncoder()\n",
    "df['Cinsiyet'] = le.fit_transform(df['Cinsiyet'])\n",
    "print(df)\n"
   ]
  },
  {
   "cell_type": "markdown",
   "id": "2b609d4d",
   "metadata": {},
   "source": [
    "df[['Yaş', 'Gelir']] sütunları ölçekleniyor (standartlaştırma) → her sütun için ortalama 0, standart sapma 1 olacak şekilde dönüştürülüyor."
   ]
  },
  {
   "cell_type": "code",
   "execution_count": 26,
   "id": "dc6e6b93",
   "metadata": {},
   "outputs": [
    {
     "name": "stdout",
     "output_type": "stream",
     "text": [
      "    ID  Cinsiyet       Yaş     Gelir    Meslek\n",
      "0    1         0 -1.083682 -1.265559  Mühendis\n",
      "1    2         1 -0.285179  0.832777    Doktor\n",
      "2    3         1  1.197753  0.000000  Öğretmen\n",
      "3    4         0 -1.425897 -1.055725    Avukat\n",
      "4    5         1  0.399251  0.308193  Mühendis\n",
      "5    6         0 -0.741466 -1.370476    Doktor\n",
      "6    7         1 -0.171108  0.937694  Öğretmen\n",
      "7    8         0  0.741466  0.000000    Avukat\n",
      "8    9         1  0.285179  1.881945  Mühendis\n",
      "9   10         0 -1.311825 -1.580309    Doktor\n",
      "10  11         0  0.057036  1.986862    Avukat\n",
      "11  12         1  1.083682  0.000000  Öğretmen\n",
      "12  13         0 -0.627395 -0.216391  Mühendis\n",
      "13  14         1  0.171108  1.147527    Doktor\n",
      "14  15         1  1.539968  0.622943  Öğretmen\n",
      "15  16         0 -0.855538 -0.321308    Avukat\n",
      "16  17         1  1.768112 -0.006557  Mühendis\n",
      "17  18         0 -1.539968 -1.160642    Doktor\n",
      "18  19         1  1.311825  0.000000    Avukat\n",
      "19  20         0 -0.513323 -0.740975  Öğretmen\n"
     ]
    }
   ],
   "source": [
    "scaler = StandardScaler()\n",
    "df[['Yaş', 'Gelir']] = scaler.fit_transform(df[['Yaş', 'Gelir']])\n",
    "\n",
    "print(df)\n"
   ]
  },
  {
   "cell_type": "code",
   "execution_count": 27,
   "id": "1de4ae45",
   "metadata": {},
   "outputs": [
    {
     "name": "stdout",
     "output_type": "stream",
     "text": [
      "    Cinsiyet       Yaş     Gelir    Meslek Gelir_Grubu\n",
      "0          0 -1.083682 -1.265559  Mühendis         NaN\n",
      "1          1 -0.285179  0.832777    Doktor       Düşük\n",
      "2          1  1.197753  0.000000  Öğretmen         NaN\n",
      "3          0 -1.425897 -1.055725    Avukat         NaN\n",
      "4          1  0.399251  0.308193  Mühendis       Düşük\n",
      "5          0 -0.741466 -1.370476    Doktor         NaN\n",
      "6          1 -0.171108  0.937694  Öğretmen       Düşük\n",
      "7          0  0.741466  0.000000    Avukat         NaN\n",
      "8          1  0.285179  1.881945  Mühendis       Düşük\n",
      "9          0 -1.311825 -1.580309    Doktor         NaN\n",
      "10         0  0.057036  1.986862    Avukat       Düşük\n",
      "11         1  1.083682  0.000000  Öğretmen         NaN\n",
      "12         0 -0.627395 -0.216391  Mühendis         NaN\n",
      "13         1  0.171108  1.147527    Doktor       Düşük\n",
      "14         1  1.539968  0.622943  Öğretmen       Düşük\n",
      "15         0 -0.855538 -0.321308    Avukat         NaN\n",
      "16         1  1.768112 -0.006557  Mühendis         NaN\n",
      "17         0 -1.539968 -1.160642    Doktor         NaN\n",
      "18         1  1.311825  0.000000    Avukat         NaN\n",
      "19         0 -0.513323 -0.740975  Öğretmen         NaN\n"
     ]
    }
   ],
   "source": [
    "# 1) 'ID' sütununu sil\n",
    "df.drop('ID', axis=1, inplace=True)\n",
    "\n",
    "\n",
    "# 2) 'Gelir' sütununu kategorilere ayır → yeni sütun 'Gelir_Grubu'\n",
    "df['Gelir_Grubu'] = pd.cut(\n",
    "    df['Gelir'], \n",
    "    bins=[0, 3000, 5000, 7000], \n",
    "    labels=['Düşük', 'Orta', 'Yüksek']\n",
    ")\n",
    "print(df)\n",
    "\n",
    "\n"
   ]
  },
  {
   "cell_type": "markdown",
   "id": "bdf624b3",
   "metadata": {},
   "source": [
    "görselleştirme"
   ]
  },
  {
   "cell_type": "code",
   "execution_count": 28,
   "id": "f1fd70ea",
   "metadata": {},
   "outputs": [
    {
     "data": {
      "image/png": "[encoded data removed]",
      "text/plain": [
       "<Figure size 400x400 with 1 Axes>"
      ]
     },
     "metadata": {},
     "output_type": "display_data"
    }
   ],
   "source": [
    "plt.figure(figsize=(4,4))\n",
    "plt.hist(df['Yaş'], bins=10, color='skyblue', edgecolor='black')\n",
    "plt.title('Yaş Dağılımı')\n",
    "plt.xlabel('Yaş')\n",
    "plt.ylabel('Frekans')\n",
    "plt.show()"
   ]
  },
  {
   "cell_type": "code",
   "execution_count": 29,
   "id": "adf9a8d4",
   "metadata": {},
   "outputs": [
    {
     "data": {
      "image/png": "[encoded data removed]",
      "text/plain": [
       "<Figure size 500x600 with 1 Axes>"
      ]
     },
     "metadata": {},
     "output_type": "display_data"
    }
   ],
   "source": [
    "plt.figure(figsize=(5,6))\n",
    "sns.countplot(x='Gelir_Grubu', hue='Cinsiyet', data=df)\n",
    "plt.title('Gelir Grubu ve Cinsiyet İlişkisi')\n",
    "plt.xlabel('Gelir Grubu')\n",
    "plt.ylabel('Kişi Sayısı')\n",
    "plt.show()\n"
   ]
  }
 ],
 "metadata": {
  "kernelspec": {
   "display_name": "ai-20days",
   "language": "python",
   "name": "ai20"
  },
  "language_info": {
   "codemirror_mode": {
    "name": "ipython",
    "version": 3
   },
   "file_extension": ".py",
   "mimetype": "text/x-python",
   "name": "python",
   "nbconvert_exporter": "python",
   "pygments_lexer": "ipython3",
   "version": "3.13.3"
  }
 },
 "nbformat": 4,
 "nbformat_minor": 5
}

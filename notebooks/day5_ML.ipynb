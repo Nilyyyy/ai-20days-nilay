{
 "cells": [
  {
   "cell_type": "code",
   "execution_count": 2,
   "id": "befdbc7b",
   "metadata": {},
   "outputs": [
    {
     "name": "stdout",
     "output_type": "stream",
     "text": [
      "==== Sonuçlar ====\n",
      "Test MSE : 461,499,854.78\n",
      "Test RMSE: 21,482.55\n",
      "R^2 Skoru: nan\n",
      "Model Denklemi: Fiyat ≈ 2238.22 * Ev_Buyuklugu + 18963.66\n",
      "200 m² bir ev için tahmini fiyat: 466,607 TL\n"
     ]
    },
    {
     "name": "stderr",
     "output_type": "stream",
     "text": [
      "c:\\Users\\bunco\\AppData\\Local\\Programs\\Python\\Python313\\Lib\\site-packages\\sklearn\\metrics\\_regression.py:1283: UndefinedMetricWarning: R^2 score is not well-defined with less than two samples.\n",
      "  warnings.warn(msg, UndefinedMetricWarning)\n"
     ]
    }
   ],
   "source": [
    "# -*- coding: utf-8 -*-\n",
    "# Basit Doğrusal Regresyon: Ev_Buyuklugu -> Fiyat\n",
    "# Tam çalışan örnek (train/test bölme, eğitim, tahmin, MSE/RMSE, R^2, katsayılar)\n",
    "\n",
    "import numpy as np\n",
    "import pandas as pd\n",
    "\n",
    "from sklearn.model_selection import train_test_split\n",
    "from sklearn.linear_model import LinearRegression\n",
    "from sklearn.metrics import mean_squared_error, r2_score\n",
    "\n",
    "\n",
    "# 1) Veriyi hazırlama\n",
    "\n",
    "data = {\n",
    "    \"Ev_Buyuklugu\": [120, 250, 175, 300, 220],\n",
    "    \"Fiyat\":        [300000, 600000, 400000, 700000, 500000]\n",
    "}\n",
    "\n",
    "df = pd.DataFrame(data)  # veriyi DataFrame'e çevir\n",
    "\n",
    "# Özellik (X) ve hedef (y)\n",
    "X = df[[\"Ev_Buyuklugu\"]]  # 2D (n,1)\n",
    "y = df[\"Fiyat\"]           # 1D (n,)\n",
    "\n",
    "\n",
    "# 2) Train/Test ayırma\n",
    "\n",
    "X_train, X_test, y_train, y_test = train_test_split(\n",
    "    X, y, test_size=0.2, random_state=42\n",
    ")\n",
    "\n",
    "# 3) Modeli oluştur ve eğit\n",
    "\n",
    "model = LinearRegression()\n",
    "model.fit(X_train, y_train)\n",
    "\n",
    "# 4) Tahmin ve değerlendirme\n",
    "\n",
    "y_pred = model.predict(X_test)\n",
    "\n",
    "mse = mean_squared_error(y_test, y_pred)\n",
    "rmse = np.sqrt(mse)\n",
    "r2 = r2_score(y_test, y_pred)\n",
    "\n",
    "print(\"==== Sonuçlar ====\")\n",
    "print(f\"Test MSE : {mse:,.2f}\")\n",
    "print(f\"Test RMSE: {rmse:,.2f}\")\n",
    "print(f\"R^2 Skoru: {r2:.4f}\")\n",
    "\n",
    "# Katsayılar (y = a*x + b)\n",
    "a = model.coef_[0]\n",
    "b = model.intercept_\n",
    "print(f\"Model Denklemi: Fiyat ≈ {a:.2f} * Ev_Buyuklugu + {b:.2f}\")\n",
    "\n",
    "\n",
    "# 5) Örnek tahmin (istersen değeri değiştir)\n",
    "\n",
    "yeni_ev = pd.DataFrame({\"Ev_Buyuklugu\": [200]})\n",
    "tahmin = model.predict(yeni_ev)[0]\n",
    "print(f\"200 m² bir ev için tahmini fiyat: {tahmin:,.0f} TL\")\n"
   ]
  },
  {
   "cell_type": "markdown",
   "id": "662fe86a",
   "metadata": {},
   "source": [
    "## HASTALIK VAR MI "
   ]
  },
  {
   "cell_type": "code",
   "execution_count": null,
   "id": "47f2bac4",
   "metadata": {},
   "outputs": [],
   "source": [
    "import pandas as pd\n",
    "from sklearn.model_selection import train_test_split\n",
    "from sklearn.tree import DecisionTreeClassifier\n",
    "from sklearn.metrics import accuracy_score\n",
    "\n",
    "# veriyi hazırlama : yaş, kan basıncını , kolestrol ve hastalık durumu verisini\n",
    "data = {\n",
    "    'Yas': [25,50,45,30,60],\n",
    "    'Kan_Basinci': [120,140,130,110,150],\n",
    "    'Kolestrol' : [180,240,200,160,220],\n",
    "    'Hastalik': [0,1,1,0,1]  # 0 hayır , 1 evet\n",
    "}\n",
    "\n",
    "df = pd.DataFrame(data)\n",
    "\n",
    "X = df[['Yas', 'Kan_Basinci', 'Kolestrol']]\n",
    "y = df['Hastalik']\n",
    "\n",
    "X_train, X_test, y_train, y_test = train_test_split(X, y, test_size=0.2, random_state=42)\n",
    "\n",
    "classifier = DecisionTreeClassifier()\n",
    "classifier.fit(X_train, y_train)\n",
    "\n",
    "y_pred = classifier.predict(X_test)\n",
    "accuracy = accuracy_score(y_test , y_pred)\n",
    "# print(f\"Model Doğruluk Oranı: {accuracy}\")\n",
    "\n",
    "# Kullanıcıdan veri alarak tahmin yapma\n",
    "yas = int(input(\"Yaşınızı girin: \"))\n",
    "kan_basinci = int(input(\"Kan basıncınızı girin: \"))\n",
    "kolestrol = int(input(\"Kolestrol seviyenizi girin: \"))\n",
    "\n",
    "kullanici_verisi = pd.DataFrame([[yas, kan_basinci, kolestrol]], columns=['Yas', 'Kan_Basinci', 'Kolestrol'])\n",
    "\n",
    "tahmin = classifier.predict(kullanici_verisi)\n",
    "sonuc = \"Hastalık var\" if tahmin[0] == 1 else \"Hastalık Yok\"\n",
    "print(f\"Tahmin : {sonuc}\")\n"
   ]
  },
  {
   "cell_type": "markdown",
   "id": "b9a46bf7",
   "metadata": {},
   "source": [
    "## yaşa göre hasta dağılımı görselleştirme "
   ]
  },
  {
   "cell_type": "code",
   "execution_count": 1,
   "id": "7abdda53",
   "metadata": {},
   "outputs": [
    {
     "name": "stdout",
     "output_type": "stream",
     "text": [
      "Aktif klasör: c:\\Users\\bunco\\OneDrive\\Masaüstü\\20days-Nilay\\notebooks\n",
      "İlk 5 satır:\n",
      "   Yas  Kan_Basinci  Kolesterol  Hastalik\n",
      "0   58          118         228         0\n",
      "1   48          133         208         1\n",
      "2   34          110         181         1\n",
      "3   62          153         245         1\n",
      "4   27          117         237         1\n"
     ]
    },
    {
     "data": {
      "image/png": "[encoded data removed]",
      "text/plain": [
       "<Figure size 1000x600 with 1 Axes>"
      ]
     },
     "metadata": {},
     "output_type": "display_data"
    }
   ],
   "source": [
    "import pandas as pd\n",
    "import matplotlib.pyplot as plt\n",
    "import seaborn as sns\n",
    "from pathlib import Path\n",
    "\n",
    "# 1. Çalışma klasörünü ve dosya yolunu kontrol et\n",
    "print(\"Aktif klasör:\", Path.cwd())\n",
    "\n",
    "# Excel dosyasının tam yolunu kur (notebooks klasöründen bir üstteki data klasörü)\n",
    "excel_path = Path(\"../data/karar_agaci_veri_100.xlsx\")\n",
    "\n",
    "if not excel_path.exists():\n",
    "    raise FileNotFoundError(f\"Excel bulunamadı: {excel_path.resolve()}\")\n",
    "\n",
    "# 2. Excel dosyasını oku\n",
    "df = pd.read_excel(excel_path, engine=\"openpyxl\")\n",
    "print(\"İlk 5 satır:\")\n",
    "print(df.head())\n",
    "\n",
    "# 3. Görselleştirme\n",
    "plt.figure(figsize=(10,6))\n",
    "sns.histplot(data=df, x='Yas', hue='Hastalik', multiple='stack', kde=False)\n",
    "plt.title('Yaş Dağılımı ve Hastalık Durumu')\n",
    "plt.xlabel('Yaş')\n",
    "plt.ylabel('Kişi Sayısı')\n",
    "plt.show()\n"
   ]
  },
  {
   "cell_type": "code",
   "execution_count": 2,
   "id": "d1c02f27",
   "metadata": {},
   "outputs": [
    {
     "name": "stdout",
     "output_type": "stream",
     "text": [
      "Aktif klasör: c:\\Users\\bunco\\OneDrive\\Masaüstü\\20days-Nilay\\notebooks\n",
      "İlk 5 satır:\n",
      "   Yas  Kan_Basinci  Kolesterol  Hastalik\n",
      "0   58          118         228         0\n",
      "1   48          133         208         1\n",
      "2   34          110         181         1\n",
      "3   62          153         245         1\n",
      "4   27          117         237         1\n"
     ]
    },
    {
     "data": {
      "image/png": "[encoded data removed]",
      "text/plain": [
       "<Figure size 1000x600 with 1 Axes>"
      ]
     },
     "metadata": {},
     "output_type": "display_data"
    }
   ],
   "source": [
    "import pandas as pd\n",
    "import matplotlib.pyplot as plt\n",
    "import seaborn as sns\n",
    "from pathlib import Path\n",
    "\n",
    "# 1. Çalışma klasörünü ve dosya yolunu kontrol et\n",
    "print(\"Aktif klasör:\", Path.cwd())\n",
    "\n",
    "# Excel dosyasının tam yolunu kur (notebooks klasöründen bir üstteki data klasörü)\n",
    "excel_path = Path(\"../data/karar_agaci_veri_100.xlsx\")\n",
    "\n",
    "if not excel_path.exists():\n",
    "    raise FileNotFoundError(f\"Excel bulunamadı: {excel_path.resolve()}\")\n",
    "\n",
    "# 2. Excel dosyasını oku\n",
    "df = pd.read_excel(excel_path, engine=\"openpyxl\")\n",
    "print(\"İlk 5 satır:\")\n",
    "print(df.head())\n",
    "\n",
    "# 3. Görselleştirme\n",
    "plt.figure(figsize=(10,6))\n",
    "sns.histplot(data=df, x='Kan_Basinci', hue='Hastalik', multiple='stack', kde=False)\n",
    "plt.title('Kan basıncı ve Hastalık Durumu')\n",
    "plt.xlabel('Kan basıncı')\n",
    "plt.ylabel('Kişi Sayısı')\n",
    "plt.show()\n"
   ]
  },
  {
   "cell_type": "markdown",
   "id": "43f758e8",
   "metadata": {},
   "source": [
    "plt.figure(figsize=(10,6))\n",
    "Grafik boyutunu ayarlıyor (10x6 inç).\n",
    "sns.histplot(...)\n",
    "Histogram çiziyor:\n",
    "data=df → verimiz bizim DataFrame.\n",
    "x='Yas' → x ekseninde Yaş sütunu olacak.\n",
    "hue='Hastalik' → farklı renkler ile hastalık durumunu ayıracak.\n",
    "multiple='stack' → farklı grupları üst üste bindirip gösteriyor.\n",
    "kde=False → ek olarak yoğunluk eğrisi (smooth line) çizme.\n",
    "plt.title → grafiğe başlık ekliyor.\n",
    "plt.xlabel ve plt.ylabel → x ve y eksenlerine etiket ekliyor.\n",
    "plt.show() → grafiği ekrana basıyor."
   ]
  },
  {
   "cell_type": "markdown",
   "id": "164fdda1",
   "metadata": {},
   "source": [
    "## ML DOĞRULUĞUNU ÖLÇME"
   ]
  },
  {
   "cell_type": "code",
   "execution_count": 6,
   "id": "fb20a862",
   "metadata": {},
   "outputs": [
    {
     "name": "stdout",
     "output_type": "stream",
     "text": [
      "Accuracy: 0.55\n",
      "\n",
      "Classification Report:\n",
      "               precision    recall  f1-score   support\n",
      "\n",
      "           0       0.50      0.56      0.53         9\n",
      "           1       0.60      0.55      0.57        11\n",
      "\n",
      "    accuracy                           0.55        20\n",
      "   macro avg       0.55      0.55      0.55        20\n",
      "weighted avg       0.55      0.55      0.55        20\n",
      "\n"
     ]
    },
    {
     "data": {
      "image/png": "[encoded data removed]",
      "text/plain": [
       "<Figure size 700x600 with 2 Axes>"
      ]
     },
     "metadata": {},
     "output_type": "display_data"
    },
    {
     "data": {
      "image/png": "[encoded data removed]",
      "text/plain": [
       "<Figure size 700x600 with 2 Axes>"
      ]
     },
     "metadata": {},
     "output_type": "display_data"
    }
   ],
   "source": [
    "import pandas as pd\n",
    "import matplotlib.pyplot as plt\n",
    "import seaborn as sns\n",
    "from pathlib import Path\n",
    "from sklearn.model_selection import train_test_split\n",
    "from sklearn.tree import DecisionTreeClassifier\n",
    "from sklearn.metrics import confusion_matrix, classification_report, accuracy_score\n",
    "\n",
    "# ---- DOSYA YOLU ----\n",
    "excel_path = Path(\"../data/karar_agaci_veri_100.xlsx\")  # gerekirse tam yol yapıştır\n",
    "\n",
    "if not excel_path.exists():\n",
    "    raise FileNotFoundError(f\"Excel bulunamadı -> {excel_path.resolve()}\")\n",
    "\n",
    "# ---- VERİYİ OKU ----\n",
    "df = pd.read_excel(excel_path, engine=\"openpyxl\")\n",
    "\n",
    "X = df[['Yas', 'Kan_Basinci', 'Kolesterol']]\n",
    "y = df['Hastalik']\n",
    "\n",
    "X_train, X_test, y_train, y_test = train_test_split(\n",
    "    X, y, test_size=0.2, random_state=42\n",
    ")\n",
    "\n",
    "# ---- MODEL ----\n",
    "clf = DecisionTreeClassifier()\n",
    "clf.fit(X_train, y_train)\n",
    "y_pred = clf.predict(X_test)\n",
    "\n",
    "print(\"Accuracy:\", accuracy_score(y_test, y_pred))\n",
    "print(\"\\nClassification Report:\\n\", classification_report(y_test, y_pred))\n",
    "\n",
    "# ---- CONFUSION MATRIX (ham ve normalize) ----\n",
    "labels = list(clf.classes_)\n",
    "cm = confusion_matrix(y_test, y_pred, labels=labels)\n",
    "\n",
    "plt.figure(figsize=(7,6))\n",
    "sns.heatmap(cm, annot=True, fmt='d', cmap='viridis',\n",
    "            xticklabels=labels, yticklabels=labels)\n",
    "plt.title(\"Matrix - Karar Ağacı (Counts)\")\n",
    "plt.xlabel(\"Predicted label\"); plt.ylabel(\"True label\")\n",
    "plt.tight_layout(); plt.show()\n",
    "\n",
    "cm_norm = (cm.astype(float) / cm.sum(axis=1, keepdims=True)) * 100\n",
    "plt.figure(figsize=(7,6))\n",
    "sns.heatmap(cm_norm, annot=True, fmt='.1f', cmap='viridis',\n",
    "            xticklabels=labels, yticklabels=labels)\n",
    "plt.title(\"Matrix - Karar Ağacı (Normalized %)\")\n",
    "plt.xlabel(\"Predicted label\"); plt.ylabel(\"True label\")\n",
    "plt.tight_layout(); plt.show()\n"
   ]
  },
  {
   "cell_type": "markdown",
   "id": "4be5c709",
   "metadata": {},
   "source": [
    "Accuracy: tüm doğruların oranı.\n",
    "classification_report: sınıf bazlı precision/recall/F1.\n",
    "Confusion Matrix üretip çiziyor\n",
    "cm = confusion_matrix(y_test, y_pred, labels=labels)\n",
    "# ham sayılar\n",
    "# normalize edilmiş (satıra göre yüzde)\n",
    "Satırlar gerçek etiketler (True label), sütunlar tahmin (Predicted label).\n",
    "Görseller ne anlatıyor?\n",
    "1) “Counts” (ham sayılar) heatmap’i\n",
    "Matrisin (satır=true, sütun=pred) kutuları:\n",
    "[[ 5, 4 ],\n",
    " [ 5, 6 ]]\n",
    "\n",
    "Bunları anlamlandırırsak (1 = hasta, 0 = sağlıklı olduğunu varsayalım):\n",
    "TN = 5 (gerçek 0, tahmin 0) → sağlıklıyı doğru bulmuş.  TN (True Negative – Doğru Negatif)\n",
    "FP = 4 (gerçek 0, tahmin 1) → sağlıklıya “hasta” demiş (yanlış alarm). FP (False Positive – Yanlış Pozitif / Type I Error)\n",
    "FN = 5 (gerçek 1, tahmin 0) → hastayı kaçırmış (tehlikeli hata). FN (False Negative – Yanlış Negatif / Type II Error)\n",
    "TP = 6 (gerçek 1, tahmin 1) → hastayı doğru yakalamış. TP (True Positive – Doğru Pozitif)\n",
    "Toplam test örneği = 5+4+5+6 = 20\n",
    "Accuracy = (TP+TN)/Toplam = (6+5)/20 = 11/20 = %55\n",
    "Yorum: Model yalnızca şansa yakın (%50) bir performansın biraz üstünde. Hem FP hem FN sayıları yüksek; özellikle FN (hasta kaçırma) sağlıkta kritik."
   ]
  },
  {
   "cell_type": "markdown",
   "id": "9f70e2ff",
   "metadata": {},
   "source": [
    "## ÇAPRAZ BAĞLAMA İLE MAKİNE ÖĞRENMESİ ORANINI ARTTIRMA "
   ]
  },
  {
   "cell_type": "code",
   "execution_count": 8,
   "id": "e7d9b303",
   "metadata": {},
   "outputs": [
    {
     "name": "stdout",
     "output_type": "stream",
     "text": [
      "Her katmanın doğruluğu: [0.55 0.25 0.7  0.35 0.5 ]\n",
      "Ortalama doğruluk: 0.47000000000000003\n",
      "Kullanılan yol: C:\\Users\\bunco\\OneDrive\\Masaüstü\\20days-Nilay\\data\\karar_agaci_veri_100.xlsx\n"
     ]
    }
   ],
   "source": [
    "import pandas as pd\n",
    "from pathlib import Path\n",
    "from sklearn.model_selection import cross_val_score\n",
    "from sklearn.tree import DecisionTreeClassifier\n",
    "\n",
    "# 1) Excel yolunu otomatik çöz\n",
    "candidates = [\n",
    "    Path(\"data/karar_agaci_veri_100.xlsx\"),    # proje kökü için\n",
    "    Path(\"../data/karar_agaci_veri_100.xlsx\"), # notebooks/ içinden\n",
    "]\n",
    "excel_path = next((p for p in candidates if p.exists()), None)\n",
    "if excel_path is None:\n",
    "    raise FileNotFoundError(\"Excel bulunamadı. data/ klasöründeki dosya adını aynen yaz: 'karar_agaci_veri_100.xlsx'\")\n",
    "\n",
    "# 2) Oku\n",
    "df = pd.read_excel(excel_path, engine=\"openpyxl\")\n",
    "\n",
    "X = df[['Yas', 'Kan_Basinci', 'Kolesterol']]\n",
    "y = df['Hastalik']\n",
    "\n",
    "# 3) Model + 5-kat CV\n",
    "clf = DecisionTreeClassifier()\n",
    "cv_scores = cross_val_score(clf, X, y, cv=5)\n",
    "\n",
    "print(\"Her katmanın doğruluğu:\", cv_scores)\n",
    "print(\"Ortalama doğruluk:\", cv_scores.mean())\n",
    "print(\"Kullanılan yol:\", excel_path.resolve())\n"
   ]
  },
  {
   "cell_type": "markdown",
   "id": "63f4014a",
   "metadata": {},
   "source": [
    "clf = DecisionTreeClassifier()\n",
    "Bir karar ağacı sınıflandırıcısı oluşturuyor.\n",
    "Henüz eğitilmedi, sadece model nesnesi tanımlandı.\n",
    "cv_scores = cross_val_score(clf, X, y, cv=5)\n",
    "cross_val_score fonksiyonu 5-katlı (cv=5) çapraz doğrulama yapıyor.\n",
    "Veriyi 5 parçaya böler: her seferinde 4 parça eğitim, 1 parça test.\n",
    "Böylece 5 farklı doğruluk değeri elde edersin.\n",
    "cv_scores → numpy array mesela: [0.55 0.60 0.45 0.50 0.65]\n",
    "print(\"Her katmanın doğruluğu:\", cv_scores)\n",
    "Yukarıdaki array’i ekrana basar.\n",
    "Hangi fold’da kaç doğruluk elde ettiğini görürsün.\n",
    "print(\"Ortalama doğruluk:\", cv_scores.mean())\n",
    "5 katmandan çıkan doğrulukların ortalamasını alır.\n",
    "Bu sana modelin genel performansını verir.\n",
    "Mesela yukarıdaki örnek için (0.55+0.60+0.45+0.50+0.65)/5 = 0.55\n",
    "print(\"Kullanılan yol:\", excel_path.resolve())\n",
    "excel_path → dosyanın bulunduğu yol (biz yukarıda otomatik seçmiştik).\n",
    ".resolve() → dosyanın tam yolunu verir (C:\\Users... gibi).\n",
    "Böylece hangi path üzerinden dosya okunduğunu net olarak görebiliyorsun."
   ]
  },
  {
   "cell_type": "markdown",
   "id": "cb53d1b6",
   "metadata": {},
   "source": [
    "ağaç girdilerini değiştirme "
   ]
  },
  {
   "cell_type": "code",
   "execution_count": 4,
   "id": "f2bf13b0",
   "metadata": {},
   "outputs": [
    {
     "name": "stdout",
     "output_type": "stream",
     "text": [
      "Her katmanın doğruluğu: [0.45 0.35 0.65 0.4  0.5 ]\n",
      "Ortalama doğruluk: 0.47000000000000003\n",
      "Kullanılan yol: C:\\Users\\bunco\\OneDrive\\Masaüstü\\20days-Nilay\\data\\karar_agaci_veri_100.xlsx\n"
     ]
    }
   ],
   "source": [
    "import pandas as pd\n",
    "from pathlib import Path\n",
    "from sklearn.model_selection import cross_val_score\n",
    "from sklearn.tree import DecisionTreeClassifier\n",
    "\n",
    "# 1) Excel yolunu otomatik çöz\n",
    "candidates = [\n",
    "    Path(\"data/karar_agaci_veri_100.xlsx\"),    # proje kökü için\n",
    "    Path(\"../data/karar_agaci_veri_100.xlsx\"), # notebooks/ içinden\n",
    "]\n",
    "excel_path = next((p for p in candidates if p.exists()), None)\n",
    "if excel_path is None:\n",
    "    raise FileNotFoundError(\"Excel bulunamadı. data/ klasöründeki dosya adını aynen yaz: 'karar_agaci_veri_100.xlsx'\")\n",
    "\n",
    "# 2) Oku\n",
    "df = pd.read_excel(excel_path, engine=\"openpyxl\")\n",
    "\n",
    "X = df[['Yas', 'Kan_Basinci', 'Kolesterol']]\n",
    "y = df['Hastalik']\n",
    "\n",
    "# 3) Model + 5-kat CV\n",
    "classifier = DecisionTreeClassifier(\n",
    "    max_depth=2,            # ağacın derinliği (kaç seviye dallanacak)\n",
    "    min_samples_split=5,    # bir node'u bölmek için gereken minimum örnek sayısı\n",
    "    min_samples_leaf=2      # yaprak node'da bulunması gereken minimum örnek sayısı\n",
    ")\n",
    "\n",
    "cv_scores = cross_val_score(clf, X, y, cv=5)\n",
    "\n",
    "print(\"Her katmanın doğruluğu:\", cv_scores)\n",
    "print(\"Ortalama doğruluk:\", cv_scores.mean())\n",
    "print(\"Kullanılan yol:\", excel_path.resolve())\n"
   ]
  }
 ],
 "metadata": {
  "kernelspec": {
   "display_name": "ai-20days",
   "language": "python",
   "name": "ai20"
  },
  "language_info": {
   "codemirror_mode": {
    "name": "ipython",
    "version": 3
   },
   "file_extension": ".py",
   "mimetype": "text/x-python",
   "name": "python",
   "nbconvert_exporter": "python",
   "pygments_lexer": "ipython3",
   "version": "3.13.3"
  }
 },
 "nbformat": 4,
 "nbformat_minor": 5
}

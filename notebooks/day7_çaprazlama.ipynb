{
 "cells": [
  {
   "cell_type": "code",
   "execution_count": null,
   "id": "3fda1078",
   "metadata": {},
   "outputs": [
    {
     "name": "stdout",
     "output_type": "stream",
     "text": [
      "Linear R eg 5 Katmanlı Cross Val Puanı: 1016.50\n",
      "Random Forest 5 Katmanlı Cross Val Puanı: 623.91\n"
     ]
    }
   ],
   "source": [
    "import pandas as pd\n",
    "from sklearn.preprocessing import LabelEncoder,StandardScaler\n",
    "from sklearn.model_selection import train_test_split ,cross_val_score\n",
    "from sklearn.linear_model import LinearRegression\n",
    "from sklearn.ensemble import RandomForestRegressor\n",
    "from sklearn.metrics import mean_squared_error\n",
    "\n",
    "#veriyi yükle\n",
    "df = pd.read_excel(\n",
    "    r\"C:\\Users\\bunco\\OneDrive\\Masaüstü\\20days-Nilay\\data\\veri_on_isleme_ve_ozellik_muhendisligi.xlsx\"\n",
    ")\n",
    "#cinseyet ve gelirleri ortalama ile doldurmak\n",
    "df['Gelir'] = df['Gelir'].fillna(df['Gelir'].mean())\n",
    "#cinsiyet ve Meslek Sütunlarını sayısal hale getirelim\n",
    "le = LabelEncoder()\n",
    "df['Cinsiyet'] = le.fit_transform(df['Cinsiyet'])\n",
    "df['Meslek'] = le.fit_transform(df['Meslek'])\n",
    "#giriş ve çıktı verilerini girelim\n",
    "X = df[['Yaş','Meslek','Cinsiyet']] # girdi\n",
    "y = df['Gelir'] # çıktı\n",
    "X_train, X_test, y_train, y_test = train_test_split(X, y, test_size=0.2, random_state=42)\n",
    "#Ölçeklendirme\n",
    "scaler = StandardScaler()\n",
    "X_train = scaler.fit_transform(X_train)\n",
    "X_test = scaler.transform(X_test)\n",
    "\n",
    "#çapraz model\n",
    "linear_model = LinearRegression()\n",
    "cv_scores = cross_val_score(linear_model, X_train, y_train, cv=5, scoring='neg_mean_squared_error')\n",
    "cv_rmse_scores = (-cv_scores) ** 0.5\n",
    "print(f'Linear R eg 5 Katmanlı Cross Val Puanı: {cv_rmse_scores.mean():.2f}')\n",
    "\n",
    "rf_model = RandomForestRegressor(n_estimators=100, random_state=1)\n",
    "cv_scores_rf = cross_val_score(rf_model, X_train, y_train, cv=6, scoring='neg_mean_squared_error')\n",
    "cv_rmse_scores_rf = (-cv_scores_rf) ** 0.5\n",
    "print(f'Random Forest 5 Katmanlı Cross Val Puanı: {cv_rmse_scores_rf.mean():.2f}')\n"
   ]
  },
  {
   "cell_type": "markdown",
   "id": "e78d2a52",
   "metadata": {},
   "source": [
    "Split → Fit/Transform → CV sırası veri sızıntısını önler (özellikle scaler için kritik).\n",
    "LabelEncoder ile model sayısal girdi ister; kategorikleri sayıya çevirmek zorundayız.\n",
    "StandardScaler lineer modele yardım eder (koşulluluk iyileşir, katsayıların büyüklüğü dengelenir).\n",
    "Cross-validation tek bir train/test bölmesine güvenmek yerine, verinin farklı parçalarında genellenebilir hatayı ölçer.\n",
    "RMSE, hataları hedef birimi cinsinden (Gelir) verir; yorumlaması kolaydır."
   ]
  }
 ],
 "metadata": {
  "kernelspec": {
   "display_name": "ai-20days",
   "language": "python",
   "name": "ai20"
  },
  "language_info": {
   "codemirror_mode": {
    "name": "ipython",
    "version": 3
   },
   "file_extension": ".py",
   "mimetype": "text/x-python",
   "name": "python",
   "nbconvert_exporter": "python",
   "pygments_lexer": "ipython3",
   "version": "3.13.3"
  }
 },
 "nbformat": 4,
 "nbformat_minor": 5
}

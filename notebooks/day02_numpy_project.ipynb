{
 "cells": [
  {
   "cell_type": "markdown",
   "id": "ff6bd0c8",
   "metadata": {},
   "source": [
    "## Day 2 — NumPy Exercises\n",
    "### Project: NumPy-only Linear Regression (GD vs Closed-form)\n"
   ]
  },
  {
   "cell_type": "code",
   "execution_count": 7,
   "id": "df080bbe",
   "metadata": {},
   "outputs": [],
   "source": [
    "import numpy as np\n",
    "np.random.seed(42)\n"
   ]
  },
  {
   "cell_type": "code",
   "execution_count": 8,
   "id": "271b6dc0",
   "metadata": {},
   "outputs": [],
   "source": [
    "n = 600\n"
   ]
  },
  {
   "cell_type": "code",
   "execution_count": 9,
   "id": "77bb000b",
   "metadata": {},
   "outputs": [
    {
     "name": "stdout",
     "output_type": "stream",
     "text": [
      "[106.18101783 192.60714596 159.79909127 139.79877263  73.40279607]\n",
      "[5 2 4 2 5]\n"
     ]
    }
   ],
   "source": [
    "size_m2     = np.random.uniform(50, 200, n)\n",
    "rooms       = np.random.randint(1, 7, n)\n",
    "age         = np.random.uniform(0, 30, n)\n",
    "distance_km = np.random.uniform(0, 20, n)\n",
    "\n",
    "print(size_m2[:5])\n",
    "print(rooms[:5])\n"
   ]
  },
  {
   "cell_type": "code",
   "execution_count": 10,
   "id": "f83319f4",
   "metadata": {},
   "outputs": [
    {
     "name": "stdout",
     "output_type": "stream",
     "text": [
      "(600, 4)\n",
      "[[106.18101783   5.          17.70692001   2.08219299]\n",
      " [192.60714596   2.          10.82921691  14.48677634]\n",
      " [159.79909127   4.           2.7474622   11.56773834]\n",
      " [139.79877263   2.          27.51940726   5.48321333]\n",
      " [ 73.40279607   5.           4.10455893   1.58838738]]\n"
     ]
    }
   ],
   "source": [
    "X = np.column_stack([size_m2, rooms, age, distance_km])\n",
    "print(X.shape)\n",
    "print(X[:5])\n"
   ]
  },
  {
   "cell_type": "code",
   "execution_count": 11,
   "id": "13a6c964",
   "metadata": {},
   "outputs": [
    {
     "name": "stdout",
     "output_type": "stream",
     "text": [
      "[ 3000. 20000. -1500. -2500.]\n"
     ]
    }
   ],
   "source": [
    "true_w = np.array([3000.0, 20000.0, -1500.0, -2500.0])\n",
    "true_b = 50_000.0\n",
    "print(true_w)\n"
   ]
  },
  {
   "cell_type": "code",
   "execution_count": 12,
   "id": "7652cdde",
   "metadata": {},
   "outputs": [
    {
     "name": "stdout",
     "output_type": "stream",
     "text": [
      "(600,)\n",
      "[422282.50521652 617612.71341129 550783.55635313 420254.30555188\n",
      " 362193.00775621]\n"
     ]
    }
   ],
   "source": [
    "noise = np.random.normal(0, 15000, n)\n",
    "y = X @ true_w + true_b + noise\n",
    "\n",
    "print(y.shape)\n",
    "print(y[:5])\n"
   ]
  },
  {
   "cell_type": "code",
   "execution_count": 13,
   "id": "5ae0ffd3",
   "metadata": {},
   "outputs": [
    {
     "name": "stdout",
     "output_type": "stream",
     "text": [
      "Train shape: (480, 4) (480,)\n",
      "Test shape: (120, 4) (120,)\n",
      "Final train shape: (480, 5)\n",
      "Final test shape: (120, 5)\n"
     ]
    }
   ],
   "source": [
    "# 80% train, 20% test ayır\n",
    "idx = np.arange(n)\n",
    "np.random.shuffle(idx)\n",
    "\n",
    "train_size = int(0.8 * n)\n",
    "train_idx, test_idx = idx[:train_size], idx[train_size:]\n",
    "\n",
    "X_train, X_test = X[train_idx], X[test_idx]\n",
    "y_train, y_test = y[train_idx], y[test_idx]\n",
    "\n",
    "print(\"Train shape:\", X_train.shape, y_train.shape)\n",
    "print(\"Test shape:\", X_test.shape, y_test.shape)\n",
    "\n",
    "# Standardizasyon (ortalama 0, std 1)\n",
    "mean, std = X_train.mean(axis=0), X_train.std(axis=0)\n",
    "X_train_std = (X_train - mean) / std\n",
    "X_test_std = (X_test - mean) / std\n",
    "\n",
    "# Bias için 1’ler sütunu ekle\n",
    "X_train_std = np.column_stack([np.ones(X_train_std.shape[0]), X_train_std])\n",
    "X_test_std  = np.column_stack([np.ones(X_test_std.shape[0]),  X_test_std])\n",
    "\n",
    "print(\"Final train shape:\", X_train_std.shape)\n",
    "print(\"Final test shape:\", X_test_std.shape)\n"
   ]
  }
 ],
 "metadata": {
  "kernelspec": {
   "display_name": "ai-20days",
   "language": "python",
   "name": "ai20"
  },
  "language_info": {
   "codemirror_mode": {
    "name": "ipython",
    "version": 3
   },
   "file_extension": ".py",
   "mimetype": "text/x-python",
   "name": "python",
   "nbconvert_exporter": "python",
   "pygments_lexer": "ipython3",
   "version": "3.13.3"
  }
 },
 "nbformat": 4,
 "nbformat_minor": 5
}

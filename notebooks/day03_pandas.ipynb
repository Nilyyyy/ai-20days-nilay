{
 "cells": [
  {
   "cell_type": "markdown",
   "id": "391a30c7",
   "metadata": {},
   "source": [
    "Pandas DataFrame → Excel dosyası gibi → sütun adları, satır indeksleri, karışık veri tipleri (sayı, string, tarih) barındırır."
   ]
  },
  {
   "cell_type": "code",
   "execution_count": 1,
   "id": "fd4741b5",
   "metadata": {},
   "outputs": [
    {
     "name": "stdout",
     "output_type": "stream",
     "text": [
      "     name  age  score department\n",
      "0   Nilay   22     88         CS\n",
      "1    Emre   25     92         CS\n",
      "2    Ayşe   23     95       Math\n",
      "3     Ali   24     70    Physics\n",
      "4  Zeynep   22     85       Math\n"
     ]
    }
   ],
   "source": [
    "import pandas as pd\n",
    "\n",
    "data = {\n",
    "    \"name\": [\"Nilay\", \"Emre\", \"Ayşe\", \"Ali\", \"Zeynep\"],\n",
    "    \"age\": [22, 25, 23, 24, 22],\n",
    "    \"score\": [88, 92, 95, 70, 85],\n",
    "    \"department\": [\"CS\", \"CS\", \"Math\", \"Physics\", \"Math\"]\n",
    "}\n",
    "\n",
    "df = pd.DataFrame(data)\n",
    "print(df)\n"
   ]
  },
  {
   "cell_type": "markdown",
   "id": "1f651b45",
   "metadata": {},
   "source": [
    "df.head() → ilk 5 satırı gösterir (hızlı göz atma için).\n",
    "\n",
    "df.info() → sütun tipleri, kaç tane null değer var, DataFrame boyutu.\n",
    "\n",
    "df.describe() → sayısal sütunların istatistik özetini çıkarır (ortalama, min, max, std...)."
   ]
  },
  {
   "cell_type": "code",
   "execution_count": 2,
   "id": "2a8be52c",
   "metadata": {},
   "outputs": [
    {
     "name": "stdout",
     "output_type": "stream",
     "text": [
      "İlk 5 satır:\n",
      "     name  age  score department\n",
      "0   Nilay   22     88         CS\n",
      "1    Emre   25     92         CS\n",
      "2    Ayşe   23     95       Math\n",
      "3     Ali   24     70    Physics\n",
      "4  Zeynep   22     85       Math\n",
      "\n",
      "Bilgi:\n",
      "<class 'pandas.core.frame.DataFrame'>\n",
      "RangeIndex: 5 entries, 0 to 4\n",
      "Data columns (total 4 columns):\n",
      " #   Column      Non-Null Count  Dtype \n",
      "---  ------      --------------  ----- \n",
      " 0   name        5 non-null      object\n",
      " 1   age         5 non-null      int64 \n",
      " 2   score       5 non-null      int64 \n",
      " 3   department  5 non-null      object\n",
      "dtypes: int64(2), object(2)\n",
      "memory usage: 292.0+ bytes\n",
      "None\n",
      "\n",
      "İstatistik özet:\n",
      "            age      score\n",
      "count   5.00000   5.000000\n",
      "mean   23.20000  86.000000\n",
      "std     1.30384   9.721111\n",
      "min    22.00000  70.000000\n",
      "25%    22.00000  85.000000\n",
      "50%    23.00000  88.000000\n",
      "75%    24.00000  92.000000\n",
      "max    25.00000  95.000000\n"
     ]
    }
   ],
   "source": [
    "print(\"İlk 5 satır:\")\n",
    "print(df.head())\n",
    "\n",
    "print(\"\\nBilgi:\")\n",
    "print(df.info())\n",
    "\n",
    "print(\"\\nİstatistik özet:\")\n",
    "print(df.describe())\n"
   ]
  },
  {
   "cell_type": "code",
   "execution_count": null,
   "id": "65f75b12",
   "metadata": {},
   "outputs": [
    {
     "name": "stdout",
     "output_type": "stream",
     "text": [
      "['CS' 'Math' 'Physics']\n",
      "3\n"
     ]
    }
   ],
   "source": [
    "print(df[\"department\"].unique())   \n",
    "print(df[\"department\"].nunique())  \n"
   ]
  },
  {
   "cell_type": "code",
   "execution_count": 4,
   "id": "399911df",
   "metadata": {},
   "outputs": [
    {
     "name": "stdout",
     "output_type": "stream",
     "text": [
      "         name department\n",
      "count       5          5\n",
      "unique      5          3\n",
      "top     Nilay         CS\n",
      "freq        1          2\n",
      "department\n",
      "CS         2\n",
      "Math       2\n",
      "Physics    1\n",
      "Name: count, dtype: int64\n"
     ]
    }
   ],
   "source": [
    "print(df.describe(include=[object]))\n",
    "print(df[\"department\"].value_counts())\n"
   ]
  },
  {
   "cell_type": "code",
   "execution_count": 5,
   "id": "eb39a69c",
   "metadata": {},
   "outputs": [
    {
     "name": "stdout",
     "output_type": "stream",
     "text": [
      "  student   course  score  year\n",
      "0   Nilay     Math     90  2023\n",
      "1    Emre       CS     85  2023\n",
      "2    Ayşe  Physics     70  2023\n",
      "3     Ali       CS     88  2024\n",
      "4   Nilay     Math     95  2024\n",
      "5    Emre       CS     92  2024\n",
      "6  Zeynep     Math     60  2023\n",
      "7     Ali  Physics     75  2024\n"
     ]
    }
   ],
   "source": [
    "import pandas as pd\n",
    "import numpy as np\n",
    "\n",
    "data = {\n",
    "    \"student\": [\"Nilay\", \"Emre\", \"Ayşe\", \"Ali\", \"Nilay\", \"Emre\", \"Zeynep\", \"Ali\"],\n",
    "    \"course\": [\"Math\", \"CS\", \"Physics\", \"CS\", \"Math\", \"CS\", \"Math\", \"Physics\"],\n",
    "    \"score\": [90, 85, 70, 88, 95, 92, 60, 75],\n",
    "    \"year\": [2023, 2023, 2023, 2024, 2024, 2024, 2023, 2024]\n",
    "}\n",
    "\n",
    "df = pd.DataFrame(data)\n",
    "print(df)\n"
   ]
  },
  {
   "cell_type": "code",
   "execution_count": 6,
   "id": "031b4696",
   "metadata": {},
   "outputs": [
    {
     "name": "stdout",
     "output_type": "stream",
     "text": [
      "           score         year\n",
      "count   8.000000     8.000000\n",
      "mean   81.875000  2023.500000\n",
      "std    12.275847     0.534522\n",
      "min    60.000000  2023.000000\n",
      "25%    73.750000  2023.000000\n",
      "50%    86.500000  2023.500000\n",
      "75%    90.500000  2024.000000\n",
      "max    95.000000  2024.000000\n",
      "       student course\n",
      "count        8      8\n",
      "unique       5      3\n",
      "top      Nilay   Math\n",
      "freq         2      3\n"
     ]
    }
   ],
   "source": [
    "print(df.describe(include=[np.number]))   # sayısal sütunlar\n",
    "print(df.describe(include=[object]))      # kategorik sütunlar\n"
   ]
  },
  {
   "cell_type": "code",
   "execution_count": 7,
   "id": "837fd551",
   "metadata": {},
   "outputs": [
    {
     "name": "stdout",
     "output_type": "stream",
     "text": [
      "student\n",
      "Nilay     2\n",
      "Emre      2\n",
      "Ali       2\n",
      "Ayşe      1\n",
      "Zeynep    1\n",
      "Name: count, dtype: int64\n",
      "course\n",
      "Math       3\n",
      "CS         3\n",
      "Physics    2\n",
      "Name: count, dtype: int64\n"
     ]
    }
   ],
   "source": [
    "print(df[\"student\"].value_counts())\n",
    "print(df[\"course\"].value_counts())\n"
   ]
  },
  {
   "cell_type": "code",
   "execution_count": 8,
   "id": "b58d9c5d",
   "metadata": {},
   "outputs": [
    {
     "name": "stdout",
     "output_type": "stream",
     "text": [
      "student\n",
      "Ali       81.5\n",
      "Ayşe      70.0\n",
      "Emre      88.5\n",
      "Nilay     92.5\n",
      "Zeynep    60.0\n",
      "Name: score, dtype: float64\n",
      "course\n",
      "CS         88.333333\n",
      "Math       81.666667\n",
      "Physics    72.500000\n",
      "Name: score, dtype: float64\n",
      "       mean  max  min\n",
      "year                 \n",
      "2023  76.25   90   60\n",
      "2024  87.50   95   75\n"
     ]
    }
   ],
   "source": [
    "print(df.groupby(\"student\")[\"score\"].mean())     # her öğrencinin ortalama notu\n",
    "print(df.groupby(\"course\")[\"score\"].mean())      # her dersin ortalama notu\n",
    "print(df.groupby(\"year\")[\"score\"].agg([\"mean\",\"max\",\"min\"]))  # her yıl için istatistik\n"
   ]
  },
  {
   "cell_type": "code",
   "execution_count": 9,
   "id": "4b265951",
   "metadata": {},
   "outputs": [
    {
     "name": "stdout",
     "output_type": "stream",
     "text": [
      "  student course  score  year\n",
      "0   Nilay   Math     90  2023\n",
      "3     Ali     CS     88  2024\n",
      "4   Nilay   Math     95  2024\n",
      "5    Emre     CS     92  2024\n",
      "  student course  score  year\n",
      "3     Ali     CS     88  2024\n",
      "5    Emre     CS     92  2024\n"
     ]
    }
   ],
   "source": [
    "print(df[df[\"score\"] > 85])       # 85 üstü alanlar\n",
    "print(df[(df[\"course\"] == \"CS\") & (df[\"year\"] == 2024)])   # 2024'te CS dersi\n"
   ]
  },
  {
   "cell_type": "code",
   "execution_count": 10,
   "id": "c11de670",
   "metadata": {},
   "outputs": [
    {
     "name": "stdout",
     "output_type": "stream",
     "text": [
      "['Nilay' 'Emre' 'Ayşe' 'Ali' 'Zeynep']\n",
      "5\n"
     ]
    }
   ],
   "source": [
    "print(df[\"student\"].unique())    # hangi öğrenciler var\n",
    "print(df[\"student\"].nunique())   # kaç farklı öğrenci var\n"
   ]
  },
  {
   "cell_type": "code",
   "execution_count": null,
   "id": "27be8c5b",
   "metadata": {},
   "outputs": [
    {
     "name": "stdout",
     "output_type": "stream",
     "text": [
      "  student   course  score  year\n",
      "4   Nilay     Math     95  2024\n",
      "5    Emre       CS     92  2024\n",
      "0   Nilay     Math     90  2023\n",
      "3     Ali       CS     88  2024\n",
      "1    Emre       CS     85  2023\n",
      "7     Ali  Physics     75  2024\n",
      "2    Ayşe  Physics     70  2023\n",
      "6  Zeynep     Math     60  2023\n",
      "  student   course  score  year\n",
      "0   Nilay     Math     90  2023\n",
      "1    Emre       CS     85  2023\n",
      "2    Ayşe  Physics     70  2023\n",
      "6  Zeynep     Math     60  2023\n",
      "4   Nilay     Math     95  2024\n",
      "5    Emre       CS     92  2024\n",
      "3     Ali       CS     88  2024\n",
      "7     Ali  Physics     75  2024\n"
     ]
    }
   ],
   "source": [
    "print(df.sort_values(\"score\", ascending=False))   # en yüksekten düşüğe notlar\n",
    "print(df.sort_values([\"year\", \"score\"], ascending=[True, False]))  # önce yıla, sonra nota göre ????? ascending=False → büyükten küçüğe (azalan sıralama).\n"
   ]
  },
  {
   "cell_type": "code",
   "execution_count": 12,
   "id": "0ffcd97b",
   "metadata": {},
   "outputs": [
    {
     "name": "stdout",
     "output_type": "stream",
     "text": [
      "course\n",
      "CS         90.0\n",
      "Math       95.0\n",
      "Physics    75.0\n",
      "Name: score, dtype: float64\n"
     ]
    }
   ],
   "source": [
    "# 2024 yılında dersi alan öğrencilerin ortalama notları\n",
    "print(df[df[\"year\"]==2024].groupby(\"course\")[\"score\"].mean())\n"
   ]
  },
  {
   "cell_type": "code",
   "execution_count": 13,
   "id": "456c4a7f",
   "metadata": {},
   "outputs": [
    {
     "name": "stdout",
     "output_type": "stream",
     "text": [
      "year  course \n",
      "2023  CS         85.0\n",
      "      Math       75.0\n",
      "      Physics    70.0\n",
      "2024  CS         90.0\n",
      "      Math       95.0\n",
      "      Physics    75.0\n",
      "Name: score, dtype: float64\n"
     ]
    }
   ],
   "source": [
    "print(df.groupby([\"year\",\"course\"])[\"score\"].mean())\n"
   ]
  },
  {
   "cell_type": "code",
   "execution_count": 14,
   "id": "d564e8f5",
   "metadata": {},
   "outputs": [
    {
     "name": "stdout",
     "output_type": "stream",
     "text": [
      "0    90\n",
      "1    85\n",
      "2    70\n",
      "3    88\n",
      "4    95\n",
      "5    92\n",
      "6    60\n",
      "7    75\n",
      "Name: score, dtype: int64\n",
      "  student  score\n",
      "0   Nilay     90\n",
      "1    Emre     85\n",
      "2    Ayşe     70\n",
      "3     Ali     88\n",
      "4   Nilay     95\n",
      "5    Emre     92\n",
      "6  Zeynep     60\n",
      "7     Ali     75\n"
     ]
    }
   ],
   "source": [
    "print(df[\"score\"])           # tek sütun\n",
    "print(df[[\"student\",\"score\"]])  # birden fazla sütun\n"
   ]
  },
  {
   "cell_type": "code",
   "execution_count": null,
   "id": "e5a356ee",
   "metadata": {},
   "outputs": [
    {
     "name": "stdout",
     "output_type": "stream",
     "text": [
      "student    Nilay\n",
      "course      Math\n",
      "score         90\n",
      "year        2023\n",
      "Name: 0, dtype: object\n",
      "student       Ayşe\n",
      "course     Physics\n",
      "score           70\n",
      "year          2023\n",
      "Name: 2, dtype: object\n"
     ]
    }
   ],
   "source": [
    "print(df.loc[0])     # index=0 olan satır\n",
    "print(df.iloc[2])    # 2. satır (index sırasına göre) loc → etikete göre seçer (index adı veya sütun adı).\n",
    "#iloc → sıraya göre seçer (0,1,2 gibi).\n"
   ]
  },
  {
   "cell_type": "code",
   "execution_count": 16,
   "id": "9952a94a",
   "metadata": {},
   "outputs": [
    {
     "name": "stdout",
     "output_type": "stream",
     "text": [
      "  student  score\n",
      "0   Nilay     90\n",
      "1    Emre     85\n",
      "2    Ayşe     70\n",
      "    course  score\n",
      "0     Math     90\n",
      "1       CS     85\n",
      "2  Physics     70\n"
     ]
    }
   ],
   "source": [
    "print(df.loc[0:2, [\"student\",\"score\"]])   # 0–2 arası satırlar, sadece bu 2 sütun\n",
    "print(df.iloc[0:3, 1:3])                  # 0–2 satırlar, 1–2 sütunlar\n"
   ]
  },
  {
   "cell_type": "markdown",
   "id": "c7065470",
   "metadata": {},
   "source": [
    "Önce eksik veri (NaN) oluştur"
   ]
  },
  {
   "cell_type": "code",
   "execution_count": 17,
   "id": "7c7c82eb",
   "metadata": {},
   "outputs": [
    {
     "name": "stdout",
     "output_type": "stream",
     "text": [
      "  student   course  score  year\n",
      "0   Nilay     Math   90.0  2023\n",
      "1    Emre       CS   85.0  2023\n",
      "2    Ayşe  Physics    NaN  2023\n",
      "3     Ali       CS   88.0  2024\n",
      "4   Nilay     Math   95.0  2024\n",
      "5    Emre       CS   92.0  2024\n",
      "6  Zeynep     Math   60.0  2023\n",
      "7     Ali  Physics   75.0  2024\n"
     ]
    }
   ],
   "source": [
    "import numpy as np\n",
    "\n",
    "df.loc[2,\"score\"] = np.nan   # Ayşe'nin notunu NaN yapıyoruz\n",
    "print(df)\n"
   ]
  },
  {
   "cell_type": "markdown",
   "id": "f389377f",
   "metadata": {},
   "source": [
    "Sonra doldur"
   ]
  },
  {
   "cell_type": "code",
   "execution_count": 18,
   "id": "e7d28663",
   "metadata": {},
   "outputs": [
    {
     "name": "stdout",
     "output_type": "stream",
     "text": [
      "  student   course  score  year\n",
      "0   Nilay     Math   90.0  2023\n",
      "1    Emre       CS   85.0  2023\n",
      "2    Ayşe  Physics    0.0  2023\n",
      "3     Ali       CS   88.0  2024\n",
      "4   Nilay     Math   95.0  2024\n",
      "5    Emre       CS   92.0  2024\n",
      "6  Zeynep     Math   60.0  2023\n",
      "7     Ali  Physics   75.0  2024\n",
      "  student   course      score  year\n",
      "0   Nilay     Math  90.000000  2023\n",
      "1    Emre       CS  85.000000  2023\n",
      "2    Ayşe  Physics  83.571429  2023\n",
      "3     Ali       CS  88.000000  2024\n",
      "4   Nilay     Math  95.000000  2024\n",
      "5    Emre       CS  92.000000  2024\n",
      "6  Zeynep     Math  60.000000  2023\n",
      "7     Ali  Physics  75.000000  2024\n"
     ]
    }
   ],
   "source": [
    "# Eksikleri 0 ile doldur\n",
    "print(df.fillna(0))\n",
    "\n",
    "# Eksikleri ortalama ile doldur\n",
    "print(df.fillna(df[\"score\"].mean()))\n"
   ]
  },
  {
   "cell_type": "markdown",
   "id": "f44ebc89",
   "metadata": {},
   "source": [
    "Yeni sütun ekleme (assign)"
   ]
  },
  {
   "cell_type": "code",
   "execution_count": 19,
   "id": "326e1a95",
   "metadata": {},
   "outputs": [
    {
     "name": "stdout",
     "output_type": "stream",
     "text": [
      "  student   course  score  year  score_bonus\n",
      "0   Nilay     Math   90.0  2023         95.0\n",
      "1    Emre       CS   85.0  2023         90.0\n",
      "2    Ayşe  Physics    NaN  2023          NaN\n",
      "3     Ali       CS   88.0  2024         93.0\n",
      "4   Nilay     Math   95.0  2024        100.0\n"
     ]
    }
   ],
   "source": [
    "df2 = df.assign(score_bonus = df[\"score\"] + 5)\n",
    "print(df2.head())\n"
   ]
  }
 ],
 "metadata": {
  "kernelspec": {
   "display_name": "ai-20days",
   "language": "python",
   "name": "ai20"
  },
  "language_info": {
   "codemirror_mode": {
    "name": "ipython",
    "version": 3
   },
   "file_extension": ".py",
   "mimetype": "text/x-python",
   "name": "python",
   "nbconvert_exporter": "python",
   "pygments_lexer": "ipython3",
   "version": "3.13.3"
  }
 },
 "nbformat": 4,
 "nbformat_minor": 5
}
